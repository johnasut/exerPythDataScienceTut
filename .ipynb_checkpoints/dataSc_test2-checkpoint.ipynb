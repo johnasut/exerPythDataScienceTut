{
 "cells": [
  {
   "cell_type": "code",
   "execution_count": 1,
   "metadata": {},
   "outputs": [],
   "source": [
    "height = [1.87,1.87,1.82,1.91,1.90,1.85]\n",
    "weight = [81.65,97.52,95.25,92.98,86.18,88.45]\n",
    "import numpy as np\n",
    "np_height=np.array(height)\n",
    "np_weight=np.array(weight)"
   ]
  },
  {
   "cell_type": "code",
   "execution_count": 2,
   "metadata": {},
   "outputs": [
    {
     "name": "stdout",
     "output_type": "stream",
     "text": [
      "<class 'numpy.ndarray'>\n"
     ]
    }
   ],
   "source": [
    "print(type(np_height))"
   ]
  },
  {
   "cell_type": "code",
   "execution_count": 3,
   "metadata": {},
   "outputs": [
    {
     "name": "stdout",
     "output_type": "stream",
     "text": [
      "[23.34925219 27.88755755 28.75558507 25.48723993 23.87257618 25.84368152]\n"
     ]
    }
   ],
   "source": [
    "bmi=np_weight/np_height**2\n",
    "print(bmi)"
   ]
  },
  {
   "cell_type": "code",
   "execution_count": 7,
   "metadata": {},
   "outputs": [
    {
     "data": {
      "text/plain": [
       "array([23.34925219, 27.88755755, 28.75558507, 25.48723993, 23.87257618,\n",
       "       25.84368152])"
      ]
     },
     "execution_count": 7,
     "metadata": {},
     "output_type": "execute_result"
    }
   ],
   "source": [
    "bmi>23\n",
    "bmi[bmi>23]"
   ]
  },
  {
   "cell_type": "code",
   "execution_count": 8,
   "metadata": {},
   "outputs": [
    {
     "data": {
      "text/plain": [
       "array([23.34925219, 27.88755755, 28.75558507, 25.48723993, 23.87257618,\n",
       "       25.84368152])"
      ]
     },
     "execution_count": 8,
     "metadata": {},
     "output_type": "execute_result"
    }
   ],
   "source": [
    "bmi>25\n",
    "bmi[bmi>23]"
   ]
  },
  {
   "cell_type": "code",
   "execution_count": 9,
   "metadata": {},
   "outputs": [
    {
     "data": {
      "text/plain": [
       "array([27.88755755, 28.75558507, 25.48723993, 25.84368152])"
      ]
     },
     "execution_count": 9,
     "metadata": {},
     "output_type": "execute_result"
    }
   ],
   "source": [
    "bmi>23\n",
    "bmi[bmi>25]"
   ]
  },
  {
   "cell_type": "code",
   "execution_count": 10,
   "metadata": {},
   "outputs": [
    {
     "data": {
      "text/plain": [
       "array([27.88755755, 28.75558507, 25.48723993, 25.84368152])"
      ]
     },
     "execution_count": 10,
     "metadata": {},
     "output_type": "execute_result"
    }
   ],
   "source": [
    "bmi>25\n",
    "bmi[bmi>25]"
   ]
  },
  {
   "cell_type": "code",
   "execution_count": 11,
   "metadata": {},
   "outputs": [
    {
     "name": "stdout",
     "output_type": "stream",
     "text": [
      "[False  True  True  True False  True]\n"
     ]
    }
   ],
   "source": [
    "print(bmi>25)"
   ]
  },
  {
   "cell_type": "code",
   "execution_count": 12,
   "metadata": {},
   "outputs": [
    {
     "name": "stdout",
     "output_type": "stream",
     "text": [
      "[179.63  214.544 209.55  204.556 189.596 194.59 ]\n"
     ]
    }
   ],
   "source": [
    "weight_kg = [81.65, 97.52, 95.25, 92.98, 86.18, 88.45]\n",
    "\n",
    "np_weight_kg=np.array(weight_kg)\n",
    "\n",
    "np_weight_lbs=np_weight_kg*2.2\n",
    "\n",
    "print(np_weight_lbs)"
   ]
  },
  {
   "cell_type": "code",
   "execution_count": 13,
   "metadata": {},
   "outputs": [
    {
     "name": "stdout",
     "output_type": "stream",
     "text": [
      "        country      capital    area  population\n",
      "0        Brazil     Brasilia   8.516      200.40\n",
      "1        Russia       Moscow  17.100      143.50\n",
      "2         India    New Delhi   3.286     1252.00\n",
      "3         China      Beijing   9.597     1357.00\n",
      "4  South Africa     Pretoria   1.221       52.98\n",
      "5         Burma  Nay Pyi Taw   0.677       53.60\n"
     ]
    }
   ],
   "source": [
    "dict={\"country\":[\"Brazil\",\"Russia\",\"India\",\"China\",\"South Africa\",\"Burma\"],\"capital\":[\"Brasilia\",\"Moscow\",\"New Delhi\",\"Beijing\",\"Pretoria\",\"Nay Pyi Taw\"],\"area\":[8.516,17.10,3.286,9.597,1.221,0.677],\"population\":[200.4,143.5,1252,1357,52.98,53.6]}\n",
    "import pandas as pd\n",
    "brics=pd.DataFrame(dict)\n",
    "print(brics)"
   ]
  },
  {
   "cell_type": "code",
   "execution_count": 14,
   "metadata": {},
   "outputs": [
    {
     "name": "stdout",
     "output_type": "stream",
     "text": [
      "         country      capital    area  population\n",
      "BR        Brazil     Brasilia   8.516      200.40\n",
      "RU        Russia       Moscow  17.100      143.50\n",
      "IN         India    New Delhi   3.286     1252.00\n",
      "CH         China      Beijing   9.597     1357.00\n",
      "SA  South Africa     Pretoria   1.221       52.98\n",
      "BM         Burma  Nay Pyi Taw   0.677       53.60\n"
     ]
    }
   ],
   "source": [
    "brics.index=[\"BR\",\"RU\",\"IN\",\"CH\",\"SA\",\"BM\"]\n",
    "print(brics)"
   ]
  },
  {
   "cell_type": "code",
   "execution_count": 18,
   "metadata": {},
   "outputs": [],
   "source": [
    "cars=pd.read_csv('cars.csv')"
   ]
  },
  {
   "cell_type": "code",
   "execution_count": 19,
   "metadata": {},
   "outputs": [
    {
     "name": "stdout",
     "output_type": "stream",
     "text": [
      "      Dimensions.Height  Dimensions.Length  Dimensions.Width  \\\n",
      "0                   140                143               202   \n",
      "1                   140                143               202   \n",
      "2                   140                143               202   \n",
      "3                   140                143               202   \n",
      "4                   140                143               202   \n",
      "...                 ...                ...               ...   \n",
      "5071                 13                253               201   \n",
      "5072                141                249               108   \n",
      "5073                160                249               108   \n",
      "5074                200                210               110   \n",
      "5075                200                 94               110   \n",
      "\n",
      "     Engine Information.Driveline  \\\n",
      "0                 All-wheel drive   \n",
      "1               Front-wheel drive   \n",
      "2               Front-wheel drive   \n",
      "3                 All-wheel drive   \n",
      "4                 All-wheel drive   \n",
      "...                           ...   \n",
      "5071            Front-wheel drive   \n",
      "5072              All-wheel drive   \n",
      "5073              All-wheel drive   \n",
      "5074             Rear-wheel drive   \n",
      "5075             Rear-wheel drive   \n",
      "\n",
      "                      Engine Information.Engine Type  \\\n",
      "0               Audi 3.2L 6 cylinder 250hp 236ft-lbs   \n",
      "1       Audi 2.0L 4 cylinder 200 hp 207 ft-lbs Turbo   \n",
      "2       Audi 2.0L 4 cylinder 200 hp 207 ft-lbs Turbo   \n",
      "3       Audi 2.0L 4 cylinder 200 hp 207 ft-lbs Turbo   \n",
      "4       Audi 2.0L 4 cylinder 200 hp 207 ft-lbs Turbo   \n",
      "...                                              ...   \n",
      "5071         Honda 3.5L 6 Cylinder 250 hp 253 ft-lbs   \n",
      "5072  Lamborghini 5.2L 10 cylinder 552 hp 398 ft-lbs   \n",
      "5073  Lamborghini 5.2L 10 cylinder 552 hp 398 ft-lbs   \n",
      "5074      BMW 3.0L 6 cylinder 315hp 330 ft-lbs Turbo   \n",
      "5075      BMW 3.0L 6 cylinder 315hp 330 ft-lbs Turbo   \n",
      "\n",
      "      Engine Information.Hybrid  Engine Information.Number of Forward Gears  \\\n",
      "0                          True                                           6   \n",
      "1                          True                                           6   \n",
      "2                          True                                           6   \n",
      "3                          True                                           6   \n",
      "4                          True                                           6   \n",
      "...                         ...                                         ...   \n",
      "5071                       True                                           5   \n",
      "5072                       True                                           6   \n",
      "5073                       True                                           6   \n",
      "5074                       True                                           6   \n",
      "5075                       True                                           6   \n",
      "\n",
      "     Engine Information.Transmission  Fuel Information.City mpg  \\\n",
      "0     6 Speed Automatic Select Shift                         18   \n",
      "1     6 Speed Automatic Select Shift                         22   \n",
      "2                     6 Speed Manual                         21   \n",
      "3     6 Speed Automatic Select Shift                         21   \n",
      "4     6 Speed Automatic Select Shift                         21   \n",
      "...                              ...                        ...   \n",
      "5071               5 Speed Automatic                         18   \n",
      "5072                  6 Speed Manual                         12   \n",
      "5073                  6 Speed Manual                         12   \n",
      "5074  6 Speed Automatic Select Shift                         17   \n",
      "5075  6 Speed Automatic Select Shift                         17   \n",
      "\n",
      "     Fuel Information.Fuel Type  Fuel Information.Highway mpg  \\\n",
      "0                      Gasoline                            25   \n",
      "1                      Gasoline                            28   \n",
      "2                      Gasoline                            30   \n",
      "3                      Gasoline                            28   \n",
      "4                      Gasoline                            28   \n",
      "...                         ...                           ...   \n",
      "5071                   Gasoline                            25   \n",
      "5072                   Gasoline                            20   \n",
      "5073                   Gasoline                            20   \n",
      "5074                   Gasoline                            25   \n",
      "5075                   Gasoline                            25   \n",
      "\n",
      "     Identification.Classification                          Identification.ID  \\\n",
      "0           Automatic transmission                           2009 Audi A3 3.2   \n",
      "1           Automatic transmission                      2009 Audi A3 2.0 T AT   \n",
      "2              Manual transmission                         2009 Audi A3 2.0 T   \n",
      "3           Automatic transmission                 2009 Audi A3 2.0 T Quattro   \n",
      "4           Automatic transmission                 2009 Audi A3 2.0 T Quattro   \n",
      "...                            ...                                        ...   \n",
      "5071        Automatic transmission                      2012 Honda Pilot EX-L   \n",
      "5072           Manual transmission   2012 Lamborghini Gallardo Coupe LP 560-4   \n",
      "5073           Manual transmission  2012 Lamborghini Gallardo LP 560-4 Spyder   \n",
      "5074        Automatic transmission                        2012 BMW 740i Sedan   \n",
      "5075        Automatic transmission                       2012 BMW 740Li Sedan   \n",
      "\n",
      "     Identification.Make         Identification.Model Year  \\\n",
      "0                   Audi                      2009 Audi A3   \n",
      "1                   Audi                      2009 Audi A3   \n",
      "2                   Audi                      2009 Audi A3   \n",
      "3                   Audi                      2009 Audi A3   \n",
      "4                   Audi                      2009 Audi A3   \n",
      "...                  ...                               ...   \n",
      "5071               Honda                  2012 Honda Pilot   \n",
      "5072         Lamborghini    2012 Lamborghini Gallardo Coup   \n",
      "5073         Lamborghini  2012 Lamborghini Gallardo Spyder   \n",
      "5074                 BMW                 2012 BMW 7 Series   \n",
      "5075                 BMW                 2012 BMW 7 Series   \n",
      "\n",
      "      Identification.Year  Engine Information.Engine Statistics.Horsepower  \\\n",
      "0                    2009                                              250   \n",
      "1                    2009                                              200   \n",
      "2                    2009                                              200   \n",
      "3                    2009                                              200   \n",
      "4                    2009                                              200   \n",
      "...                   ...                                              ...   \n",
      "5071                 2012                                              250   \n",
      "5072                 2012                                              552   \n",
      "5073                 2012                                              552   \n",
      "5074                 2012                                              315   \n",
      "5075                 2012                                              315   \n",
      "\n",
      "      Engine Information.Engine Statistics.Torque  \n",
      "0                                             236  \n",
      "1                                             207  \n",
      "2                                             207  \n",
      "3                                             207  \n",
      "4                                             207  \n",
      "...                                           ...  \n",
      "5071                                          253  \n",
      "5072                                          398  \n",
      "5073                                          398  \n",
      "5074                                          330  \n",
      "5075                                          330  \n",
      "\n",
      "[5076 rows x 18 columns]\n"
     ]
    }
   ],
   "source": [
    "print(cars)"
   ]
  },
  {
   "cell_type": "code",
   "execution_count": 22,
   "metadata": {},
   "outputs": [
    {
     "name": "stdout",
     "output_type": "stream",
     "text": [
      "Dimensions.Height\n",
      "140           Audi\n",
      "140           Audi\n",
      "140           Audi\n",
      "140           Audi\n",
      "140           Audi\n",
      "          ...     \n",
      "13           Honda\n",
      "141    Lamborghini\n",
      "160    Lamborghini\n",
      "200            BMW\n",
      "200            BMW\n",
      "Name: Identification.Make, Length: 5076, dtype: object\n",
      "                  Identification.Make\n",
      "Dimensions.Height                    \n",
      "140                              Audi\n",
      "140                              Audi\n",
      "140                              Audi\n",
      "140                              Audi\n",
      "140                              Audi\n",
      "...                               ...\n",
      "13                              Honda\n",
      "141                       Lamborghini\n",
      "160                       Lamborghini\n",
      "200                               BMW\n",
      "200                               BMW\n",
      "\n",
      "[5076 rows x 1 columns]\n"
     ]
    }
   ],
   "source": [
    "cars=pd.read_csv('cars.csv',index_col=0)\n",
    "print(cars['Identification.Make'])\n",
    "print(cars[['Identification.Make']])"
   ]
  },
  {
   "cell_type": "code",
   "execution_count": 23,
   "metadata": {},
   "outputs": [
    {
     "name": "stdout",
     "output_type": "stream",
     "text": [
      "Dimensions.Height\n",
      "140           Audi\n",
      "140           Audi\n",
      "140           Audi\n",
      "140           Audi\n",
      "140           Audi\n",
      "          ...     \n",
      "13           Honda\n",
      "141    Lamborghini\n",
      "160    Lamborghini\n",
      "200            BMW\n",
      "200            BMW\n",
      "Name: Identification.Make, Length: 5076, dtype: object\n",
      "                  Identification.Make\n",
      "Dimensions.Height                    \n",
      "140                              Audi\n",
      "140                              Audi\n",
      "140                              Audi\n",
      "140                              Audi\n",
      "140                              Audi\n",
      "...                               ...\n",
      "13                              Honda\n",
      "141                       Lamborghini\n",
      "160                       Lamborghini\n",
      "200                               BMW\n",
      "200                               BMW\n",
      "\n",
      "[5076 rows x 1 columns]\n",
      "                  Identification.Make         Identification.Model Year\n",
      "Dimensions.Height                                                      \n",
      "140                              Audi                      2009 Audi A3\n",
      "140                              Audi                      2009 Audi A3\n",
      "140                              Audi                      2009 Audi A3\n",
      "140                              Audi                      2009 Audi A3\n",
      "140                              Audi                      2009 Audi A3\n",
      "...                               ...                               ...\n",
      "13                              Honda                  2012 Honda Pilot\n",
      "141                       Lamborghini    2012 Lamborghini Gallardo Coup\n",
      "160                       Lamborghini  2012 Lamborghini Gallardo Spyder\n",
      "200                               BMW                 2012 BMW 7 Series\n",
      "200                               BMW                 2012 BMW 7 Series\n",
      "\n",
      "[5076 rows x 2 columns]\n"
     ]
    }
   ],
   "source": [
    "print(cars['Identification.Make'])\n",
    "print(cars[['Identification.Make']])\n",
    "print(cars[['Identification.Make','Identification.Model Year']])"
   ]
  },
  {
   "cell_type": "code",
   "execution_count": 24,
   "metadata": {},
   "outputs": [
    {
     "name": "stdout",
     "output_type": "stream",
     "text": [
      "                   Dimensions.Length  Dimensions.Width  \\\n",
      "Dimensions.Height                                        \n",
      "140                              143               202   \n",
      "140                              143               202   \n",
      "140                              143               202   \n",
      "140                              143               202   \n",
      "\n",
      "                  Engine Information.Driveline  \\\n",
      "Dimensions.Height                                \n",
      "140                            All-wheel drive   \n",
      "140                          Front-wheel drive   \n",
      "140                          Front-wheel drive   \n",
      "140                            All-wheel drive   \n",
      "\n",
      "                                 Engine Information.Engine Type  \\\n",
      "Dimensions.Height                                                 \n",
      "140                        Audi 3.2L 6 cylinder 250hp 236ft-lbs   \n",
      "140                Audi 2.0L 4 cylinder 200 hp 207 ft-lbs Turbo   \n",
      "140                Audi 2.0L 4 cylinder 200 hp 207 ft-lbs Turbo   \n",
      "140                Audi 2.0L 4 cylinder 200 hp 207 ft-lbs Turbo   \n",
      "\n",
      "                   Engine Information.Hybrid  \\\n",
      "Dimensions.Height                              \n",
      "140                                     True   \n",
      "140                                     True   \n",
      "140                                     True   \n",
      "140                                     True   \n",
      "\n",
      "                   Engine Information.Number of Forward Gears  \\\n",
      "Dimensions.Height                                               \n",
      "140                                                         6   \n",
      "140                                                         6   \n",
      "140                                                         6   \n",
      "140                                                         6   \n",
      "\n",
      "                  Engine Information.Transmission  Fuel Information.City mpg  \\\n",
      "Dimensions.Height                                                              \n",
      "140                6 Speed Automatic Select Shift                         18   \n",
      "140                6 Speed Automatic Select Shift                         22   \n",
      "140                                6 Speed Manual                         21   \n",
      "140                6 Speed Automatic Select Shift                         21   \n",
      "\n",
      "                  Fuel Information.Fuel Type  Fuel Information.Highway mpg  \\\n",
      "Dimensions.Height                                                            \n",
      "140                                 Gasoline                            25   \n",
      "140                                 Gasoline                            28   \n",
      "140                                 Gasoline                            30   \n",
      "140                                 Gasoline                            28   \n",
      "\n",
      "                  Identification.Classification           Identification.ID  \\\n",
      "Dimensions.Height                                                             \n",
      "140                      Automatic transmission            2009 Audi A3 3.2   \n",
      "140                      Automatic transmission       2009 Audi A3 2.0 T AT   \n",
      "140                         Manual transmission          2009 Audi A3 2.0 T   \n",
      "140                      Automatic transmission  2009 Audi A3 2.0 T Quattro   \n",
      "\n",
      "                  Identification.Make Identification.Model Year  \\\n",
      "Dimensions.Height                                                 \n",
      "140                              Audi              2009 Audi A3   \n",
      "140                              Audi              2009 Audi A3   \n",
      "140                              Audi              2009 Audi A3   \n",
      "140                              Audi              2009 Audi A3   \n",
      "\n",
      "                   Identification.Year  \\\n",
      "Dimensions.Height                        \n",
      "140                               2009   \n",
      "140                               2009   \n",
      "140                               2009   \n",
      "140                               2009   \n",
      "\n",
      "                   Engine Information.Engine Statistics.Horsepower  \\\n",
      "Dimensions.Height                                                    \n",
      "140                                                            250   \n",
      "140                                                            200   \n",
      "140                                                            200   \n",
      "140                                                            200   \n",
      "\n",
      "                   Engine Information.Engine Statistics.Torque  \n",
      "Dimensions.Height                                               \n",
      "140                                                        236  \n",
      "140                                                        207  \n",
      "140                                                        207  \n",
      "140                                                        207  \n"
     ]
    }
   ],
   "source": [
    "print(cars[0:4])"
   ]
  },
  {
   "cell_type": "code",
   "execution_count": 25,
   "metadata": {},
   "outputs": [
    {
     "name": "stdout",
     "output_type": "stream",
     "text": [
      "                   Dimensions.Length  Dimensions.Width  \\\n",
      "Dimensions.Height                                        \n",
      "140                              143               202   \n",
      "91                                17                62   \n",
      "\n",
      "                  Engine Information.Driveline  \\\n",
      "Dimensions.Height                                \n",
      "140                            All-wheel drive   \n",
      "91                             All-wheel drive   \n",
      "\n",
      "                                 Engine Information.Engine Type  \\\n",
      "Dimensions.Height                                                 \n",
      "140                Audi 2.0L 4 cylinder 200 hp 207 ft-lbs Turbo   \n",
      "91                        Audi 3.2L 6 cylinder 265hp 243 ft-lbs   \n",
      "\n",
      "                   Engine Information.Hybrid  \\\n",
      "Dimensions.Height                              \n",
      "140                                     True   \n",
      "91                                      True   \n",
      "\n",
      "                   Engine Information.Number of Forward Gears  \\\n",
      "Dimensions.Height                                               \n",
      "140                                                         6   \n",
      "91                                                          6   \n",
      "\n",
      "                  Engine Information.Transmission  Fuel Information.City mpg  \\\n",
      "Dimensions.Height                                                              \n",
      "140                6 Speed Automatic Select Shift                         21   \n",
      "91                                 6 Speed Manual                         16   \n",
      "\n",
      "                  Fuel Information.Fuel Type  Fuel Information.Highway mpg  \\\n",
      "Dimensions.Height                                                            \n",
      "140                                 Gasoline                            28   \n",
      "91                                  Gasoline                            27   \n",
      "\n",
      "                  Identification.Classification           Identification.ID  \\\n",
      "Dimensions.Height                                                             \n",
      "140                      Automatic transmission  2009 Audi A3 2.0 T Quattro   \n",
      "91                          Manual transmission            2009 Audi A5 3.2   \n",
      "\n",
      "                  Identification.Make Identification.Model Year  \\\n",
      "Dimensions.Height                                                 \n",
      "140                              Audi              2009 Audi A3   \n",
      "91                               Audi              2009 Audi A5   \n",
      "\n",
      "                   Identification.Year  \\\n",
      "Dimensions.Height                        \n",
      "140                               2009   \n",
      "91                                2009   \n",
      "\n",
      "                   Engine Information.Engine Statistics.Horsepower  \\\n",
      "Dimensions.Height                                                    \n",
      "140                                                            200   \n",
      "91                                                             265   \n",
      "\n",
      "                   Engine Information.Engine Statistics.Torque  \n",
      "Dimensions.Height                                               \n",
      "140                                                        207  \n",
      "91                                                         243  \n"
     ]
    }
   ],
   "source": [
    "print(cars[4:6])"
   ]
  },
  {
   "cell_type": "code",
   "execution_count": 26,
   "metadata": {},
   "outputs": [
    {
     "name": "stdout",
     "output_type": "stream",
     "text": [
      "Dimensions.Length                                                                           143\n",
      "Dimensions.Width                                                                            202\n",
      "Engine Information.Driveline                                                  Front-wheel drive\n",
      "Engine Information.Engine Type                     Audi 2.0L 4 cylinder 200 hp 207 ft-lbs Turbo\n",
      "Engine Information.Hybrid                                                                  True\n",
      "Engine Information.Number of Forward Gears                                                    6\n",
      "Engine Information.Transmission                                                  6 Speed Manual\n",
      "Fuel Information.City mpg                                                                    21\n",
      "Fuel Information.Fuel Type                                                             Gasoline\n",
      "Fuel Information.Highway mpg                                                                 30\n",
      "Identification.Classification                                               Manual transmission\n",
      "Identification.ID                                                            2009 Audi A3 2.0 T\n",
      "Identification.Make                                                                        Audi\n",
      "Identification.Model Year                                                          2009 Audi A3\n",
      "Identification.Year                                                                        2009\n",
      "Engine Information.Engine Statistics.Horsepower                                             200\n",
      "Engine Information.Engine Statistics.Torque                                                 207\n",
      "Name: 140, dtype: object\n"
     ]
    }
   ],
   "source": [
    "print(cars.iloc[2])"
   ]
  },
  {
   "cell_type": "code",
   "execution_count": 34,
   "metadata": {},
   "outputs": [
    {
     "name": "stdout",
     "output_type": "stream",
     "text": [
      "                   Dimensions.Length  Dimensions.Width  \\\n",
      "Dimensions.Height                                        \n",
      "140                              143               202   \n",
      "140                              143               202   \n",
      "140                              143               202   \n",
      "140                              143               202   \n",
      "140                              143               202   \n",
      "...                              ...               ...   \n",
      "77                                60               219   \n",
      "77                                60               219   \n",
      "77                                60               219   \n",
      "77                                60               219   \n",
      "77                                60               219   \n",
      "\n",
      "                  Engine Information.Driveline  \\\n",
      "Dimensions.Height                                \n",
      "140                            All-wheel drive   \n",
      "140                          Front-wheel drive   \n",
      "140                          Front-wheel drive   \n",
      "140                            All-wheel drive   \n",
      "140                            All-wheel drive   \n",
      "...                                        ...   \n",
      "77                            Rear-wheel drive   \n",
      "77                             All-wheel drive   \n",
      "77                            Rear-wheel drive   \n",
      "77                            Rear-wheel drive   \n",
      "77                             All-wheel drive   \n",
      "\n",
      "                                 Engine Information.Engine Type  \\\n",
      "Dimensions.Height                                                 \n",
      "140                        Audi 3.2L 6 cylinder 250hp 236ft-lbs   \n",
      "140                Audi 2.0L 4 cylinder 200 hp 207 ft-lbs Turbo   \n",
      "140                Audi 2.0L 4 cylinder 200 hp 207 ft-lbs Turbo   \n",
      "140                Audi 2.0L 4 cylinder 200 hp 207 ft-lbs Turbo   \n",
      "140                Audi 2.0L 4 cylinder 200 hp 207 ft-lbs Turbo   \n",
      "...                                                         ...   \n",
      "77                    GMC 5.3L 8 Cylinder 310 hp 334 ft-lbs FFV   \n",
      "77                    GMC 5.3L 8 Cylinder 310 hp 334 ft-lbs FFV   \n",
      "77                        GMC 4.3L 6 Cylinder 195 hp 260 ft-lbs   \n",
      "77                    GMC 5.3L 8 Cylinder 310 hp 334 ft-lbs FFV   \n",
      "77                    GMC 5.3L 8 Cylinder 310 hp 334 ft-lbs FFV   \n",
      "\n",
      "                   Engine Information.Hybrid  \\\n",
      "Dimensions.Height                              \n",
      "140                                     True   \n",
      "140                                     True   \n",
      "140                                     True   \n",
      "140                                     True   \n",
      "140                                     True   \n",
      "...                                      ...   \n",
      "77                                      True   \n",
      "77                                      True   \n",
      "77                                      True   \n",
      "77                                      True   \n",
      "77                                      True   \n",
      "\n",
      "                   Engine Information.Number of Forward Gears  \\\n",
      "Dimensions.Height                                               \n",
      "140                                                         6   \n",
      "140                                                         6   \n",
      "140                                                         6   \n",
      "140                                                         6   \n",
      "140                                                         6   \n",
      "...                                                       ...   \n",
      "77                                                          4   \n",
      "77                                                          4   \n",
      "77                                                          4   \n",
      "77                                                          4   \n",
      "77                                                          4   \n",
      "\n",
      "                  Engine Information.Transmission  Fuel Information.City mpg  \\\n",
      "Dimensions.Height                                                              \n",
      "140                6 Speed Automatic Select Shift                         18   \n",
      "140                6 Speed Automatic Select Shift                         22   \n",
      "140                                6 Speed Manual                         21   \n",
      "140                6 Speed Automatic Select Shift                         21   \n",
      "140                6 Speed Automatic Select Shift                         21   \n",
      "...                                           ...                        ...   \n",
      "77                              4 Speed Automatic                         13   \n",
      "77                              4 Speed Automatic                         13   \n",
      "77                              4 Speed Automatic                         15   \n",
      "77                              4 Speed Automatic                         13   \n",
      "77                              4 Speed Automatic                         13   \n",
      "\n",
      "                  Fuel Information.Fuel Type  Fuel Information.Highway mpg  \\\n",
      "Dimensions.Height                                                            \n",
      "140                                 Gasoline                            25   \n",
      "140                                 Gasoline                            28   \n",
      "140                                 Gasoline                            30   \n",
      "140                                 Gasoline                            28   \n",
      "140                                 Gasoline                            28   \n",
      "...                                      ...                           ...   \n",
      "77                                  Gasoline                            17   \n",
      "77                                  Gasoline                            17   \n",
      "77                                  Gasoline                            20   \n",
      "77                                  Gasoline                            18   \n",
      "77                                  Gasoline                            17   \n",
      "\n",
      "                  Identification.Classification  \\\n",
      "Dimensions.Height                                 \n",
      "140                      Automatic transmission   \n",
      "140                      Automatic transmission   \n",
      "140                         Manual transmission   \n",
      "140                      Automatic transmission   \n",
      "140                      Automatic transmission   \n",
      "...                                         ...   \n",
      "77                       Automatic transmission   \n",
      "77                       Automatic transmission   \n",
      "77                       Automatic transmission   \n",
      "77                       Automatic transmission   \n",
      "77                       Automatic transmission   \n",
      "\n",
      "                                                   Identification.ID  \\\n",
      "Dimensions.Height                                                      \n",
      "140                                                 2009 Audi A3 3.2   \n",
      "140                                            2009 Audi A3 2.0 T AT   \n",
      "140                                               2009 Audi A3 2.0 T   \n",
      "140                                       2009 Audi A3 2.0 T Quattro   \n",
      "140                                       2009 Audi A3 2.0 T Quattro   \n",
      "...                                                              ...   \n",
      "77                 2012 GMC Savana Passenger 1LT 1500 Regular Whe...   \n",
      "77                 2012 GMC Savana Passenger 1LT 1500 Regular Whe...   \n",
      "77                  2012 GMC Savana Cargo Van 1500 Regular Wheelbase   \n",
      "77                 2012 GMC Savana Cargo Van 1500 Regular Wheelba...   \n",
      "77                 2012 GMC Savana Cargo Van 1500 Regular Wheelba...   \n",
      "\n",
      "                  Identification.Make Identification.Model Year  \\\n",
      "Dimensions.Height                                                 \n",
      "140                              Audi              2009 Audi A3   \n",
      "140                              Audi              2009 Audi A3   \n",
      "140                              Audi              2009 Audi A3   \n",
      "140                              Audi              2009 Audi A3   \n",
      "140                              Audi              2009 Audi A3   \n",
      "...                               ...                       ...   \n",
      "77                                GMC           2012 GMC Savana   \n",
      "77                                GMC           2012 GMC Savana   \n",
      "77                                GMC           2012 GMC Savana   \n",
      "77                                GMC           2012 GMC Savana   \n",
      "77                                GMC           2012 GMC Savana   \n",
      "\n",
      "                   Identification.Year  \\\n",
      "Dimensions.Height                        \n",
      "140                               2009   \n",
      "140                               2009   \n",
      "140                               2009   \n",
      "140                               2009   \n",
      "140                               2009   \n",
      "...                                ...   \n",
      "77                                2012   \n",
      "77                                2012   \n",
      "77                                2012   \n",
      "77                                2012   \n",
      "77                                2012   \n",
      "\n",
      "                   Engine Information.Engine Statistics.Horsepower  \\\n",
      "Dimensions.Height                                                    \n",
      "140                                                            250   \n",
      "140                                                            200   \n",
      "140                                                            200   \n",
      "140                                                            200   \n",
      "140                                                            200   \n",
      "...                                                            ...   \n",
      "77                                                             310   \n",
      "77                                                             310   \n",
      "77                                                             195   \n",
      "77                                                             310   \n",
      "77                                                             310   \n",
      "\n",
      "                   Engine Information.Engine Statistics.Torque  \n",
      "Dimensions.Height                                               \n",
      "140                                                        236  \n",
      "140                                                        207  \n",
      "140                                                        207  \n",
      "140                                                        207  \n",
      "140                                                        207  \n",
      "...                                                        ...  \n",
      "77                                                         334  \n",
      "77                                                         334  \n",
      "77                                                         260  \n",
      "77                                                         334  \n",
      "77                                                         334  \n",
      "\n",
      "[103 rows x 17 columns]\n"
     ]
    }
   ],
   "source": [
    "print(cars.loc[[140,77]])"
   ]
  },
  {
   "cell_type": "code",
   "execution_count": null,
   "metadata": {},
   "outputs": [],
   "source": []
  }
 ],
 "metadata": {
  "kernelspec": {
   "display_name": "dataSc",
   "language": "python",
   "name": "datasc"
  },
  "language_info": {
   "codemirror_mode": {
    "name": "ipython",
    "version": 3
   },
   "file_extension": ".py",
   "mimetype": "text/x-python",
   "name": "python",
   "nbconvert_exporter": "python",
   "pygments_lexer": "ipython3",
   "version": "3.7.8"
  }
 },
 "nbformat": 4,
 "nbformat_minor": 4
}
